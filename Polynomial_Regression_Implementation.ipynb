{
  "nbformat": 4,
  "nbformat_minor": 0,
  "metadata": {
    "colab": {
      "provenance": [],
      "authorship_tag": "ABX9TyMtZyfaezBn+yRcD6KwfuOU",
      "include_colab_link": true
    },
    "kernelspec": {
      "name": "python3",
      "display_name": "Python 3"
    },
    "language_info": {
      "name": "python"
    }
  },
  "cells": [
    {
      "cell_type": "markdown",
      "metadata": {
        "id": "view-in-github",
        "colab_type": "text"
      },
      "source": [
        "<a href=\"https://colab.research.google.com/github/Soumo31428/PolynomialRegressionImplementation/blob/main/Polynomial_Regression_Implementation.ipynb\" target=\"_parent\"><img src=\"https://colab.research.google.com/assets/colab-badge.svg\" alt=\"Open In Colab\"/></a>"
      ]
    },
    {
      "cell_type": "code",
      "execution_count": 2,
      "metadata": {
        "id": "GO7SIsUsf2E-"
      },
      "outputs": [],
      "source": [
        "## import libraries\n",
        "import numpy as np\n",
        "import pandas as pd\n",
        "import matplotlib.pyplot as plt\n"
      ]
    },
    {
      "cell_type": "code",
      "source": [
        "x = 6 * np.random.rand(100, 1) - 3\n",
        "y = 0.5 * x**2 + 1.5*x + 2 + np.random.randn(100, 1)\n",
        "## quadratic equation used y=0.5x^2+1.5x+2+outliers\n",
        "plt.scatter(x,y, color = 'g')\n",
        "plt.xlabel('X Dataset')\n",
        "plt.ylabel('Y Dataset')"
      ],
      "metadata": {
        "colab": {
          "base_uri": "https://localhost:8080/",
          "height": 466
        },
        "id": "Cmy0fl9TgmYU",
        "outputId": "7e67a51d-4999-4c23-a19b-720590517d54"
      },
      "execution_count": 3,
      "outputs": [
        {
          "output_type": "execute_result",
          "data": {
            "text/plain": [
              "Text(0, 0.5, 'Y Dataset')"
            ]
          },
          "metadata": {},
          "execution_count": 3
        },
        {
          "output_type": "display_data",
          "data": {
            "text/plain": [
              "<Figure size 640x480 with 1 Axes>"
            ],
            "image/png": "[encoded data removed]"
          },
          "metadata": {}
        }
      ]
    },
    {
      "cell_type": "code",
      "source": [
        "from sklearn.model_selection import train_test_split\n",
        "xtrain , xtest , ytrain , ytest = train_test_split(x,y, test_size = 0.25, random_state = 42)"
      ],
      "metadata": {
        "id": "RGcQ0VCTh8ci"
      },
      "execution_count": 4,
      "outputs": []
    },
    {
      "cell_type": "code",
      "source": [
        "## Let's implemeny simple linear regression\n",
        "from sklearn.linear_model import LinearRegression\n",
        "reg = LinearRegression()\n",
        "reg.fit(xtrain, ytrain)"
      ],
      "metadata": {
        "colab": {
          "base_uri": "https://localhost:8080/",
          "height": 80
        },
        "id": "-eaZbMkCibTz",
        "outputId": "44958c7c-997d-428b-f8e4-9c1c66a29cb7"
      },
      "execution_count": 10,
      "outputs": [
        {
          "output_type": "execute_result",
          "data": {
            "text/plain": [
              "LinearRegression()"
            ],
            "text/html": [
              "<style>#sk-container-id-1 {\n",
              "  /* Definition of color scheme common for light and dark mode */\n",
              "  --sklearn-color-text: #000;\n",
              "  --sklearn-color-text-muted: #666;\n",
              "  --sklearn-color-line: gray;\n",
              "  /* Definition of color scheme for unfitted estimators */\n",
              "  --sklearn-color-unfitted-level-0: #fff5e6;\n",
              "  --sklearn-color-unfitted-level-1: #f6e4d2;\n",
              "  --sklearn-color-unfitted-level-2: #ffe0b3;\n",
              "  --sklearn-color-unfitted-level-3: chocolate;\n",
              "  /* Definition of color scheme for fitted estimators */\n",
              "  --sklearn-color-fitted-level-0: #f0f8ff;\n",
              "  --sklearn-color-fitted-level-1: #d4ebff;\n",
              "  --sklearn-color-fitted-level-2: #b3dbfd;\n",
              "  --sklearn-color-fitted-level-3: cornflowerblue;\n",
              "\n",
              "  /* Specific color for light theme */\n",
              "  --sklearn-color-text-on-default-background: var(--sg-text-color, var(--theme-code-foreground, var(--jp-content-font-color1, black)));\n",
              "  --sklearn-color-background: var(--sg-background-color, var(--theme-background, var(--jp-layout-color0, white)));\n",
              "  --sklearn-color-border-box: var(--sg-text-color, var(--theme-code-foreground, var(--jp-content-font-color1, black)));\n",
              "  --sklearn-color-icon: #696969;\n",
              "\n",
              "  @media (prefers-color-scheme: dark) {\n",
              "    /* Redefinition of color scheme for dark theme */\n",
              "    --sklearn-color-text-on-default-background: var(--sg-text-color, var(--theme-code-foreground, var(--jp-content-font-color1, white)));\n",
              "    --sklearn-color-background: var(--sg-background-color, var(--theme-background, var(--jp-layout-color0, #111)));\n",
              "    --sklearn-color-border-box: var(--sg-text-color, var(--theme-code-foreground, var(--jp-content-font-color1, white)));\n",
              "    --sklearn-color-icon: #878787;\n",
              "  }\n",
              "}\n",
              "\n",
              "#sk-container-id-1 {\n",
              "  color: var(--sklearn-color-text);\n",
              "}\n",
              "\n",
              "#sk-container-id-1 pre {\n",
              "  padding: 0;\n",
              "}\n",
              "\n",
              "#sk-container-id-1 input.sk-hidden--visually {\n",
              "  border: 0;\n",
              "  clip: rect(1px 1px 1px 1px);\n",
              "  clip: rect(1px, 1px, 1px, 1px);\n",
              "  height: 1px;\n",
              "  margin: -1px;\n",
              "  overflow: hidden;\n",
              "  padding: 0;\n",
              "  position: absolute;\n",
              "  width: 1px;\n",
              "}\n",
              "\n",
              "#sk-container-id-1 div.sk-dashed-wrapped {\n",
              "  border: 1px dashed var(--sklearn-color-line);\n",
              "  margin: 0 0.4em 0.5em 0.4em;\n",
              "  box-sizing: border-box;\n",
              "  padding-bottom: 0.4em;\n",
              "  background-color: var(--sklearn-color-background);\n",
              "}\n",
              "\n",
              "#sk-container-id-1 div.sk-container {\n",
              "  /* jupyter's `normalize.less` sets `[hidden] { display: none; }`\n",
              "     but bootstrap.min.css set `[hidden] { display: none !important; }`\n",
              "     so we also need the `!important` here to be able to override the\n",
              "     default hidden behavior on the sphinx rendered scikit-learn.org.\n",
              "     See: https://github.com/scikit-learn/scikit-learn/issues/21755 */\n",
              "  display: inline-block !important;\n",
              "  position: relative;\n",
              "}\n",
              "\n",
              "#sk-container-id-1 div.sk-text-repr-fallback {\n",
              "  display: none;\n",
              "}\n",
              "\n",
              "div.sk-parallel-item,\n",
              "div.sk-serial,\n",
              "div.sk-item {\n",
              "  /* draw centered vertical line to link estimators */\n",
              "  background-image: linear-gradient(var(--sklearn-color-text-on-default-background), var(--sklearn-color-text-on-default-background));\n",
              "  background-size: 2px 100%;\n",
              "  background-repeat: no-repeat;\n",
              "  background-position: center center;\n",
              "}\n",
              "\n",
              "/* Parallel-specific style estimator block */\n",
              "\n",
              "#sk-container-id-1 div.sk-parallel-item::after {\n",
              "  content: \"\";\n",
              "  width: 100%;\n",
              "  border-bottom: 2px solid var(--sklearn-color-text-on-default-background);\n",
              "  flex-grow: 1;\n",
              "}\n",
              "\n",
              "#sk-container-id-1 div.sk-parallel {\n",
              "  display: flex;\n",
              "  align-items: stretch;\n",
              "  justify-content: center;\n",
              "  background-color: var(--sklearn-color-background);\n",
              "  position: relative;\n",
              "}\n",
              "\n",
              "#sk-container-id-1 div.sk-parallel-item {\n",
              "  display: flex;\n",
              "  flex-direction: column;\n",
              "}\n",
              "\n",
              "#sk-container-id-1 div.sk-parallel-item:first-child::after {\n",
              "  align-self: flex-end;\n",
              "  width: 50%;\n",
              "}\n",
              "\n",
              "#sk-container-id-1 div.sk-parallel-item:last-child::after {\n",
              "  align-self: flex-start;\n",
              "  width: 50%;\n",
              "}\n",
              "\n",
              "#sk-container-id-1 div.sk-parallel-item:only-child::after {\n",
              "  width: 0;\n",
              "}\n",
              "\n",
              "/* Serial-specific style estimator block */\n",
              "\n",
              "#sk-container-id-1 div.sk-serial {\n",
              "  display: flex;\n",
              "  flex-direction: column;\n",
              "  align-items: center;\n",
              "  background-color: var(--sklearn-color-background);\n",
              "  padding-right: 1em;\n",
              "  padding-left: 1em;\n",
              "}\n",
              "\n",
              "\n",
              "/* Toggleable style: style used for estimator/Pipeline/ColumnTransformer box that is\n",
              "clickable and can be expanded/collapsed.\n",
              "- Pipeline and ColumnTransformer use this feature and define the default style\n",
              "- Estimators will overwrite some part of the style using the `sk-estimator` class\n",
              "*/\n",
              "\n",
              "/* Pipeline and ColumnTransformer style (default) */\n",
              "\n",
              "#sk-container-id-1 div.sk-toggleable {\n",
              "  /* Default theme specific background. It is overwritten whether we have a\n",
              "  specific estimator or a Pipeline/ColumnTransformer */\n",
              "  background-color: var(--sklearn-color-background);\n",
              "}\n",
              "\n",
              "/* Toggleable label */\n",
              "#sk-container-id-1 label.sk-toggleable__label {\n",
              "  cursor: pointer;\n",
              "  display: flex;\n",
              "  width: 100%;\n",
              "  margin-bottom: 0;\n",
              "  padding: 0.5em;\n",
              "  box-sizing: border-box;\n",
              "  text-align: center;\n",
              "  align-items: start;\n",
              "  justify-content: space-between;\n",
              "  gap: 0.5em;\n",
              "}\n",
              "\n",
              "#sk-container-id-1 label.sk-toggleable__label .caption {\n",
              "  font-size: 0.6rem;\n",
              "  font-weight: lighter;\n",
              "  color: var(--sklearn-color-text-muted);\n",
              "}\n",
              "\n",
              "#sk-container-id-1 label.sk-toggleable__label-arrow:before {\n",
              "  /* Arrow on the left of the label */\n",
              "  content: \"▸\";\n",
              "  float: left;\n",
              "  margin-right: 0.25em;\n",
              "  color: var(--sklearn-color-icon);\n",
              "}\n",
              "\n",
              "#sk-container-id-1 label.sk-toggleable__label-arrow:hover:before {\n",
              "  color: var(--sklearn-color-text);\n",
              "}\n",
              "\n",
              "/* Toggleable content - dropdown */\n",
              "\n",
              "#sk-container-id-1 div.sk-toggleable__content {\n",
              "  max-height: 0;\n",
              "  max-width: 0;\n",
              "  overflow: hidden;\n",
              "  text-align: left;\n",
              "  /* unfitted */\n",
              "  background-color: var(--sklearn-color-unfitted-level-0);\n",
              "}\n",
              "\n",
              "#sk-container-id-1 div.sk-toggleable__content.fitted {\n",
              "  /* fitted */\n",
              "  background-color: var(--sklearn-color-fitted-level-0);\n",
              "}\n",
              "\n",
              "#sk-container-id-1 div.sk-toggleable__content pre {\n",
              "  margin: 0.2em;\n",
              "  border-radius: 0.25em;\n",
              "  color: var(--sklearn-color-text);\n",
              "  /* unfitted */\n",
              "  background-color: var(--sklearn-color-unfitted-level-0);\n",
              "}\n",
              "\n",
              "#sk-container-id-1 div.sk-toggleable__content.fitted pre {\n",
              "  /* unfitted */\n",
              "  background-color: var(--sklearn-color-fitted-level-0);\n",
              "}\n",
              "\n",
              "#sk-container-id-1 input.sk-toggleable__control:checked~div.sk-toggleable__content {\n",
              "  /* Expand drop-down */\n",
              "  max-height: 200px;\n",
              "  max-width: 100%;\n",
              "  overflow: auto;\n",
              "}\n",
              "\n",
              "#sk-container-id-1 input.sk-toggleable__control:checked~label.sk-toggleable__label-arrow:before {\n",
              "  content: \"▾\";\n",
              "}\n",
              "\n",
              "/* Pipeline/ColumnTransformer-specific style */\n",
              "\n",
              "#sk-container-id-1 div.sk-label input.sk-toggleable__control:checked~label.sk-toggleable__label {\n",
              "  color: var(--sklearn-color-text);\n",
              "  background-color: var(--sklearn-color-unfitted-level-2);\n",
              "}\n",
              "\n",
              "#sk-container-id-1 div.sk-label.fitted input.sk-toggleable__control:checked~label.sk-toggleable__label {\n",
              "  background-color: var(--sklearn-color-fitted-level-2);\n",
              "}\n",
              "\n",
              "/* Estimator-specific style */\n",
              "\n",
              "/* Colorize estimator box */\n",
              "#sk-container-id-1 div.sk-estimator input.sk-toggleable__control:checked~label.sk-toggleable__label {\n",
              "  /* unfitted */\n",
              "  background-color: var(--sklearn-color-unfitted-level-2);\n",
              "}\n",
              "\n",
              "#sk-container-id-1 div.sk-estimator.fitted input.sk-toggleable__control:checked~label.sk-toggleable__label {\n",
              "  /* fitted */\n",
              "  background-color: var(--sklearn-color-fitted-level-2);\n",
              "}\n",
              "\n",
              "#sk-container-id-1 div.sk-label label.sk-toggleable__label,\n",
              "#sk-container-id-1 div.sk-label label {\n",
              "  /* The background is the default theme color */\n",
              "  color: var(--sklearn-color-text-on-default-background);\n",
              "}\n",
              "\n",
              "/* On hover, darken the color of the background */\n",
              "#sk-container-id-1 div.sk-label:hover label.sk-toggleable__label {\n",
              "  color: var(--sklearn-color-text);\n",
              "  background-color: var(--sklearn-color-unfitted-level-2);\n",
              "}\n",
              "\n",
              "/* Label box, darken color on hover, fitted */\n",
              "#sk-container-id-1 div.sk-label.fitted:hover label.sk-toggleable__label.fitted {\n",
              "  color: var(--sklearn-color-text);\n",
              "  background-color: var(--sklearn-color-fitted-level-2);\n",
              "}\n",
              "\n",
              "/* Estimator label */\n",
              "\n",
              "#sk-container-id-1 div.sk-label label {\n",
              "  font-family: monospace;\n",
              "  font-weight: bold;\n",
              "  display: inline-block;\n",
              "  line-height: 1.2em;\n",
              "}\n",
              "\n",
              "#sk-container-id-1 div.sk-label-container {\n",
              "  text-align: center;\n",
              "}\n",
              "\n",
              "/* Estimator-specific */\n",
              "#sk-container-id-1 div.sk-estimator {\n",
              "  font-family: monospace;\n",
              "  border: 1px dotted var(--sklearn-color-border-box);\n",
              "  border-radius: 0.25em;\n",
              "  box-sizing: border-box;\n",
              "  margin-bottom: 0.5em;\n",
              "  /* unfitted */\n",
              "  background-color: var(--sklearn-color-unfitted-level-0);\n",
              "}\n",
              "\n",
              "#sk-container-id-1 div.sk-estimator.fitted {\n",
              "  /* fitted */\n",
              "  background-color: var(--sklearn-color-fitted-level-0);\n",
              "}\n",
              "\n",
              "/* on hover */\n",
              "#sk-container-id-1 div.sk-estimator:hover {\n",
              "  /* unfitted */\n",
              "  background-color: var(--sklearn-color-unfitted-level-2);\n",
              "}\n",
              "\n",
              "#sk-container-id-1 div.sk-estimator.fitted:hover {\n",
              "  /* fitted */\n",
              "  background-color: var(--sklearn-color-fitted-level-2);\n",
              "}\n",
              "\n",
              "/* Specification for estimator info (e.g. \"i\" and \"?\") */\n",
              "\n",
              "/* Common style for \"i\" and \"?\" */\n",
              "\n",
              ".sk-estimator-doc-link,\n",
              "a:link.sk-estimator-doc-link,\n",
              "a:visited.sk-estimator-doc-link {\n",
              "  float: right;\n",
              "  font-size: smaller;\n",
              "  line-height: 1em;\n",
              "  font-family: monospace;\n",
              "  background-color: var(--sklearn-color-background);\n",
              "  border-radius: 1em;\n",
              "  height: 1em;\n",
              "  width: 1em;\n",
              "  text-decoration: none !important;\n",
              "  margin-left: 0.5em;\n",
              "  text-align: center;\n",
              "  /* unfitted */\n",
              "  border: var(--sklearn-color-unfitted-level-1) 1pt solid;\n",
              "  color: var(--sklearn-color-unfitted-level-1);\n",
              "}\n",
              "\n",
              ".sk-estimator-doc-link.fitted,\n",
              "a:link.sk-estimator-doc-link.fitted,\n",
              "a:visited.sk-estimator-doc-link.fitted {\n",
              "  /* fitted */\n",
              "  border: var(--sklearn-color-fitted-level-1) 1pt solid;\n",
              "  color: var(--sklearn-color-fitted-level-1);\n",
              "}\n",
              "\n",
              "/* On hover */\n",
              "div.sk-estimator:hover .sk-estimator-doc-link:hover,\n",
              ".sk-estimator-doc-link:hover,\n",
              "div.sk-label-container:hover .sk-estimator-doc-link:hover,\n",
              ".sk-estimator-doc-link:hover {\n",
              "  /* unfitted */\n",
              "  background-color: var(--sklearn-color-unfitted-level-3);\n",
              "  color: var(--sklearn-color-background);\n",
              "  text-decoration: none;\n",
              "}\n",
              "\n",
              "div.sk-estimator.fitted:hover .sk-estimator-doc-link.fitted:hover,\n",
              ".sk-estimator-doc-link.fitted:hover,\n",
              "div.sk-label-container:hover .sk-estimator-doc-link.fitted:hover,\n",
              ".sk-estimator-doc-link.fitted:hover {\n",
              "  /* fitted */\n",
              "  background-color: var(--sklearn-color-fitted-level-3);\n",
              "  color: var(--sklearn-color-background);\n",
              "  text-decoration: none;\n",
              "}\n",
              "\n",
              "/* Span, style for the box shown on hovering the info icon */\n",
              ".sk-estimator-doc-link span {\n",
              "  display: none;\n",
              "  z-index: 9999;\n",
              "  position: relative;\n",
              "  font-weight: normal;\n",
              "  right: .2ex;\n",
              "  padding: .5ex;\n",
              "  margin: .5ex;\n",
              "  width: min-content;\n",
              "  min-width: 20ex;\n",
              "  max-width: 50ex;\n",
              "  color: var(--sklearn-color-text);\n",
              "  box-shadow: 2pt 2pt 4pt #999;\n",
              "  /* unfitted */\n",
              "  background: var(--sklearn-color-unfitted-level-0);\n",
              "  border: .5pt solid var(--sklearn-color-unfitted-level-3);\n",
              "}\n",
              "\n",
              ".sk-estimator-doc-link.fitted span {\n",
              "  /* fitted */\n",
              "  background: var(--sklearn-color-fitted-level-0);\n",
              "  border: var(--sklearn-color-fitted-level-3);\n",
              "}\n",
              "\n",
              ".sk-estimator-doc-link:hover span {\n",
              "  display: block;\n",
              "}\n",
              "\n",
              "/* \"?\"-specific style due to the `<a>` HTML tag */\n",
              "\n",
              "#sk-container-id-1 a.estimator_doc_link {\n",
              "  float: right;\n",
              "  font-size: 1rem;\n",
              "  line-height: 1em;\n",
              "  font-family: monospace;\n",
              "  background-color: var(--sklearn-color-background);\n",
              "  border-radius: 1rem;\n",
              "  height: 1rem;\n",
              "  width: 1rem;\n",
              "  text-decoration: none;\n",
              "  /* unfitted */\n",
              "  color: var(--sklearn-color-unfitted-level-1);\n",
              "  border: var(--sklearn-color-unfitted-level-1) 1pt solid;\n",
              "}\n",
              "\n",
              "#sk-container-id-1 a.estimator_doc_link.fitted {\n",
              "  /* fitted */\n",
              "  border: var(--sklearn-color-fitted-level-1) 1pt solid;\n",
              "  color: var(--sklearn-color-fitted-level-1);\n",
              "}\n",
              "\n",
              "/* On hover */\n",
              "#sk-container-id-1 a.estimator_doc_link:hover {\n",
              "  /* unfitted */\n",
              "  background-color: var(--sklearn-color-unfitted-level-3);\n",
              "  color: var(--sklearn-color-background);\n",
              "  text-decoration: none;\n",
              "}\n",
              "\n",
              "#sk-container-id-1 a.estimator_doc_link.fitted:hover {\n",
              "  /* fitted */\n",
              "  background-color: var(--sklearn-color-fitted-level-3);\n",
              "}\n",
              "</style><div id=\"sk-container-id-1\" class=\"sk-top-container\"><div class=\"sk-text-repr-fallback\"><pre>LinearRegression()</pre><b>In a Jupyter environment, please rerun this cell to show the HTML representation or trust the notebook. <br />On GitHub, the HTML representation is unable to render, please try loading this page with nbviewer.org.</b></div><div class=\"sk-container\" hidden><div class=\"sk-item\"><div class=\"sk-estimator fitted sk-toggleable\"><input class=\"sk-toggleable__control sk-hidden--visually\" id=\"sk-estimator-id-1\" type=\"checkbox\" checked><label for=\"sk-estimator-id-1\" class=\"sk-toggleable__label fitted sk-toggleable__label-arrow\"><div><div>LinearRegression</div></div><div><a class=\"sk-estimator-doc-link fitted\" rel=\"noreferrer\" target=\"_blank\" href=\"https://scikit-learn.org/1.6/modules/generated/sklearn.linear_model.LinearRegression.html\">?<span>Documentation for LinearRegression</span></a><span class=\"sk-estimator-doc-link fitted\">i<span>Fitted</span></span></div></label><div class=\"sk-toggleable__content fitted\"><pre>LinearRegression()</pre></div> </div></div></div></div>"
            ]
          },
          "metadata": {},
          "execution_count": 10
        }
      ]
    },
    {
      "cell_type": "code",
      "source": [
        "from sklearn.metrics import r2_score\n",
        "r2_score(ytest, reg.predict(xtest))"
      ],
      "metadata": {
        "colab": {
          "base_uri": "https://localhost:8080/"
        },
        "id": "L1lpMXatiwcI",
        "outputId": "ecc12b28-d073-4a6f-f5a7-823720883bea"
      },
      "execution_count": null,
      "outputs": [
        {
          "output_type": "execute_result",
          "data": {
            "text/plain": [
              "0.513261169461364"
            ]
          },
          "metadata": {},
          "execution_count": 7
        }
      ]
    },
    {
      "cell_type": "code",
      "source": [
        "## Let's visualize this model\n",
        "plt.plot(xtrain, reg.predict(xtrain),color = 'r')\n",
        "plt.scatter(xtrain,ytrain)\n",
        "plt.xlabel('X Dataset')\n",
        "plt.ylabel('Y Dataset')"
      ],
      "metadata": {
        "colab": {
          "base_uri": "https://localhost:8080/",
          "height": 466
        },
        "id": "HHgX2MGBi_aX",
        "outputId": "ded8875f-0642-412a-9276-d0f29049b27d"
      },
      "execution_count": null,
      "outputs": [
        {
          "output_type": "execute_result",
          "data": {
            "text/plain": [
              "Text(0, 0.5, 'Y Dataset')"
            ]
          },
          "metadata": {},
          "execution_count": 8
        },
        {
          "output_type": "display_data",
          "data": {
            "text/plain": [
              "<Figure size 640x480 with 1 Axes>"
            ],
            "image/png": "[encoded data removed]"
          },
          "metadata": {}
        }
      ]
    },
    {
      "cell_type": "code",
      "source": [
        "## Let's apply polynomial transformation\n",
        "from sklearn.preprocessing import PolynomialFeatures\n",
        "poly = PolynomialFeatures(degree=2,include_bias = True)\n",
        "xtrain_poly = poly.fit_transform(xtrain)\n",
        "xtest_poly = poly.transform(xtest)"
      ],
      "metadata": {
        "id": "pjHY2diJjX5o"
      },
      "execution_count": 5,
      "outputs": []
    },
    {
      "cell_type": "code",
      "source": [
        "from sklearn.metrics import r2_score\n",
        "model = LinearRegression()\n",
        "model.fit(xtrain_poly, ytrain)\n",
        "score = r2_score(ytest, model.predict(xtest_poly))\n",
        "print(score)"
      ],
      "metadata": {
        "colab": {
          "base_uri": "https://localhost:8080/"
        },
        "id": "TrkC4K81kve5",
        "outputId": "6b6c67ce-da90-410b-87ec-439f0fb33e55"
      },
      "execution_count": 11,
      "outputs": [
        {
          "output_type": "stream",
          "name": "stdout",
          "text": [
            "0.8926657147757471\n"
          ]
        }
      ]
    },
    {
      "cell_type": "code",
      "source": [
        "print(model.coef_)\n",
        "print(model.intercept_)"
      ],
      "metadata": {
        "colab": {
          "base_uri": "https://localhost:8080/"
        },
        "id": "VEbjQ8FCmC5x",
        "outputId": "faaeb02e-f791-4300-9e8b-b93cbd6d207b"
      },
      "execution_count": 12,
      "outputs": [
        {
          "output_type": "stream",
          "name": "stdout",
          "text": [
            "[[0.         1.40362427 0.43104625]]\n",
            "[2.10803823]\n"
          ]
        }
      ]
    },
    {
      "cell_type": "code",
      "source": [
        "plt.scatter(xtrain, model.predict(xtrain_poly))\n",
        "plt.scatter(xtrain,ytrain)"
      ],
      "metadata": {
        "colab": {
          "base_uri": "https://localhost:8080/",
          "height": 447
        },
        "id": "xGUC0g_6mJKA",
        "outputId": "8988a3d4-61d6-4884-8d6e-5d75845cd6be"
      },
      "execution_count": 13,
      "outputs": [
        {
          "output_type": "execute_result",
          "data": {
            "text/plain": [
              "<matplotlib.collections.PathCollection at 0x7ea2c4f6cad0>"
            ]
          },
          "metadata": {},
          "execution_count": 13
        },
        {
          "output_type": "display_data",
          "data": {
            "text/plain": [
              "<Figure size 640x480 with 1 Axes>"
            ],
            "image/png": "[encoded data removed]"
          },
          "metadata": {}
        }
      ]
    },
    {
      "cell_type": "code",
      "source": [
        "poly2 = PolynomialFeatures(degree = 3, include_bias = True)\n",
        "xtrain_poly2 = poly2.fit_transform(xtrain)\n",
        "xtest_poly2 = poly2.transform(xtest)"
      ],
      "metadata": {
        "id": "tzXdOTZkmit3"
      },
      "execution_count": 14,
      "outputs": []
    },
    {
      "cell_type": "code",
      "source": [
        "from sklearn.metrics import r2_score\n",
        "model2 = LinearRegression()\n",
        "model2.fit(xtrain_poly2, ytrain)\n",
        "score2 = r2_score(ytest, model2.predict(xtest_poly2))\n",
        "print(score2)"
      ],
      "metadata": {
        "colab": {
          "base_uri": "https://localhost:8080/"
        },
        "id": "W9TcdlP_nOCi",
        "outputId": "2d10122c-53d9-4130-9df8-ac180e1d255f"
      },
      "execution_count": 15,
      "outputs": [
        {
          "output_type": "stream",
          "name": "stdout",
          "text": [
            "0.8964399263717032\n"
          ]
        }
      ]
    },
    {
      "cell_type": "code",
      "source": [
        "## Prediction of new data set\n",
        "x_new = np.linspace(-3,3,200).reshape(200,1)\n",
        "x_new_poly = poly.transform(x_new)\n",
        "x_new_poly"
      ],
      "metadata": {
        "colab": {
          "base_uri": "https://localhost:8080/"
        },
        "id": "QeHsaGBXnbxC",
        "outputId": "52889c19-c3a6-473a-d8fe-42d1723534c4"
      },
      "execution_count": 16,
      "outputs": [
        {
          "output_type": "execute_result",
          "data": {
            "text/plain": [
              "array([[ 1.00000000e+00, -3.00000000e+00,  9.00000000e+00],\n",
              "       [ 1.00000000e+00, -2.96984925e+00,  8.82000455e+00],\n",
              "       [ 1.00000000e+00, -2.93969849e+00,  8.64182723e+00],\n",
              "       [ 1.00000000e+00, -2.90954774e+00,  8.46546804e+00],\n",
              "       [ 1.00000000e+00, -2.87939698e+00,  8.29092700e+00],\n",
              "       [ 1.00000000e+00, -2.84924623e+00,  8.11820409e+00],\n",
              "       [ 1.00000000e+00, -2.81909548e+00,  7.94729931e+00],\n",
              "       [ 1.00000000e+00, -2.78894472e+00,  7.77821267e+00],\n",
              "       [ 1.00000000e+00, -2.75879397e+00,  7.61094417e+00],\n",
              "       [ 1.00000000e+00, -2.72864322e+00,  7.44549380e+00],\n",
              "       [ 1.00000000e+00, -2.69849246e+00,  7.28186157e+00],\n",
              "       [ 1.00000000e+00, -2.66834171e+00,  7.12004747e+00],\n",
              "       [ 1.00000000e+00, -2.63819095e+00,  6.96005151e+00],\n",
              "       [ 1.00000000e+00, -2.60804020e+00,  6.80187369e+00],\n",
              "       [ 1.00000000e+00, -2.57788945e+00,  6.64551400e+00],\n",
              "       [ 1.00000000e+00, -2.54773869e+00,  6.49097245e+00],\n",
              "       [ 1.00000000e+00, -2.51758794e+00,  6.33824903e+00],\n",
              "       [ 1.00000000e+00, -2.48743719e+00,  6.18734375e+00],\n",
              "       [ 1.00000000e+00, -2.45728643e+00,  6.03825661e+00],\n",
              "       [ 1.00000000e+00, -2.42713568e+00,  5.89098760e+00],\n",
              "       [ 1.00000000e+00, -2.39698492e+00,  5.74553673e+00],\n",
              "       [ 1.00000000e+00, -2.36683417e+00,  5.60190399e+00],\n",
              "       [ 1.00000000e+00, -2.33668342e+00,  5.46008939e+00],\n",
              "       [ 1.00000000e+00, -2.30653266e+00,  5.32009293e+00],\n",
              "       [ 1.00000000e+00, -2.27638191e+00,  5.18191460e+00],\n",
              "       [ 1.00000000e+00, -2.24623116e+00,  5.04555441e+00],\n",
              "       [ 1.00000000e+00, -2.21608040e+00,  4.91101235e+00],\n",
              "       [ 1.00000000e+00, -2.18592965e+00,  4.77828843e+00],\n",
              "       [ 1.00000000e+00, -2.15577889e+00,  4.64738264e+00],\n",
              "       [ 1.00000000e+00, -2.12562814e+00,  4.51829499e+00],\n",
              "       [ 1.00000000e+00, -2.09547739e+00,  4.39102548e+00],\n",
              "       [ 1.00000000e+00, -2.06532663e+00,  4.26557410e+00],\n",
              "       [ 1.00000000e+00, -2.03517588e+00,  4.14194086e+00],\n",
              "       [ 1.00000000e+00, -2.00502513e+00,  4.02012575e+00],\n",
              "       [ 1.00000000e+00, -1.97487437e+00,  3.90012878e+00],\n",
              "       [ 1.00000000e+00, -1.94472362e+00,  3.78194995e+00],\n",
              "       [ 1.00000000e+00, -1.91457286e+00,  3.66558925e+00],\n",
              "       [ 1.00000000e+00, -1.88442211e+00,  3.55104669e+00],\n",
              "       [ 1.00000000e+00, -1.85427136e+00,  3.43832226e+00],\n",
              "       [ 1.00000000e+00, -1.82412060e+00,  3.32741597e+00],\n",
              "       [ 1.00000000e+00, -1.79396985e+00,  3.21832782e+00],\n",
              "       [ 1.00000000e+00, -1.76381910e+00,  3.11105780e+00],\n",
              "       [ 1.00000000e+00, -1.73366834e+00,  3.00560592e+00],\n",
              "       [ 1.00000000e+00, -1.70351759e+00,  2.90197217e+00],\n",
              "       [ 1.00000000e+00, -1.67336683e+00,  2.80015656e+00],\n",
              "       [ 1.00000000e+00, -1.64321608e+00,  2.70015909e+00],\n",
              "       [ 1.00000000e+00, -1.61306533e+00,  2.60197975e+00],\n",
              "       [ 1.00000000e+00, -1.58291457e+00,  2.50561854e+00],\n",
              "       [ 1.00000000e+00, -1.55276382e+00,  2.41107548e+00],\n",
              "       [ 1.00000000e+00, -1.52261307e+00,  2.31835055e+00],\n",
              "       [ 1.00000000e+00, -1.49246231e+00,  2.22744375e+00],\n",
              "       [ 1.00000000e+00, -1.46231156e+00,  2.13835509e+00],\n",
              "       [ 1.00000000e+00, -1.43216080e+00,  2.05108457e+00],\n",
              "       [ 1.00000000e+00, -1.40201005e+00,  1.96563218e+00],\n",
              "       [ 1.00000000e+00, -1.37185930e+00,  1.88199793e+00],\n",
              "       [ 1.00000000e+00, -1.34170854e+00,  1.80018181e+00],\n",
              "       [ 1.00000000e+00, -1.31155779e+00,  1.72018383e+00],\n",
              "       [ 1.00000000e+00, -1.28140704e+00,  1.64200399e+00],\n",
              "       [ 1.00000000e+00, -1.25125628e+00,  1.56564228e+00],\n",
              "       [ 1.00000000e+00, -1.22110553e+00,  1.49109871e+00],\n",
              "       [ 1.00000000e+00, -1.19095477e+00,  1.41837327e+00],\n",
              "       [ 1.00000000e+00, -1.16080402e+00,  1.34746597e+00],\n",
              "       [ 1.00000000e+00, -1.13065327e+00,  1.27837681e+00],\n",
              "       [ 1.00000000e+00, -1.10050251e+00,  1.21110578e+00],\n",
              "       [ 1.00000000e+00, -1.07035176e+00,  1.14565289e+00],\n",
              "       [ 1.00000000e+00, -1.04020101e+00,  1.08201813e+00],\n",
              "       [ 1.00000000e+00, -1.01005025e+00,  1.02020151e+00],\n",
              "       [ 1.00000000e+00, -9.79899497e-01,  9.60203025e-01],\n",
              "       [ 1.00000000e+00, -9.49748744e-01,  9.02022676e-01],\n",
              "       [ 1.00000000e+00, -9.19597990e-01,  8.45660463e-01],\n",
              "       [ 1.00000000e+00, -8.89447236e-01,  7.91116386e-01],\n",
              "       [ 1.00000000e+00, -8.59296482e-01,  7.38390445e-01],\n",
              "       [ 1.00000000e+00, -8.29145729e-01,  6.87482639e-01],\n",
              "       [ 1.00000000e+00, -7.98994975e-01,  6.38392970e-01],\n",
              "       [ 1.00000000e+00, -7.68844221e-01,  5.91121436e-01],\n",
              "       [ 1.00000000e+00, -7.38693467e-01,  5.45668039e-01],\n",
              "       [ 1.00000000e+00, -7.08542714e-01,  5.02032777e-01],\n",
              "       [ 1.00000000e+00, -6.78391960e-01,  4.60215651e-01],\n",
              "       [ 1.00000000e+00, -6.48241206e-01,  4.20216661e-01],\n",
              "       [ 1.00000000e+00, -6.18090452e-01,  3.82035807e-01],\n",
              "       [ 1.00000000e+00, -5.87939698e-01,  3.45673089e-01],\n",
              "       [ 1.00000000e+00, -5.57788945e-01,  3.11128507e-01],\n",
              "       [ 1.00000000e+00, -5.27638191e-01,  2.78402061e-01],\n",
              "       [ 1.00000000e+00, -4.97487437e-01,  2.47493750e-01],\n",
              "       [ 1.00000000e+00, -4.67336683e-01,  2.18403576e-01],\n",
              "       [ 1.00000000e+00, -4.37185930e-01,  1.91131537e-01],\n",
              "       [ 1.00000000e+00, -4.07035176e-01,  1.65677634e-01],\n",
              "       [ 1.00000000e+00, -3.76884422e-01,  1.42041868e-01],\n",
              "       [ 1.00000000e+00, -3.46733668e-01,  1.20224237e-01],\n",
              "       [ 1.00000000e+00, -3.16582915e-01,  1.00224742e-01],\n",
              "       [ 1.00000000e+00, -2.86432161e-01,  8.20433827e-02],\n",
              "       [ 1.00000000e+00, -2.56281407e-01,  6.56801596e-02],\n",
              "       [ 1.00000000e+00, -2.26130653e-01,  5.11350723e-02],\n",
              "       [ 1.00000000e+00, -1.95979899e-01,  3.84081210e-02],\n",
              "       [ 1.00000000e+00, -1.65829146e-01,  2.74993056e-02],\n",
              "       [ 1.00000000e+00, -1.35678392e-01,  1.84086260e-02],\n",
              "       [ 1.00000000e+00, -1.05527638e-01,  1.11360824e-02],\n",
              "       [ 1.00000000e+00, -7.53768844e-02,  5.68167471e-03],\n",
              "       [ 1.00000000e+00, -4.52261307e-02,  2.04540289e-03],\n",
              "       [ 1.00000000e+00, -1.50753769e-02,  2.27266988e-04],\n",
              "       [ 1.00000000e+00,  1.50753769e-02,  2.27266988e-04],\n",
              "       [ 1.00000000e+00,  4.52261307e-02,  2.04540289e-03],\n",
              "       [ 1.00000000e+00,  7.53768844e-02,  5.68167471e-03],\n",
              "       [ 1.00000000e+00,  1.05527638e-01,  1.11360824e-02],\n",
              "       [ 1.00000000e+00,  1.35678392e-01,  1.84086260e-02],\n",
              "       [ 1.00000000e+00,  1.65829146e-01,  2.74993056e-02],\n",
              "       [ 1.00000000e+00,  1.95979899e-01,  3.84081210e-02],\n",
              "       [ 1.00000000e+00,  2.26130653e-01,  5.11350723e-02],\n",
              "       [ 1.00000000e+00,  2.56281407e-01,  6.56801596e-02],\n",
              "       [ 1.00000000e+00,  2.86432161e-01,  8.20433827e-02],\n",
              "       [ 1.00000000e+00,  3.16582915e-01,  1.00224742e-01],\n",
              "       [ 1.00000000e+00,  3.46733668e-01,  1.20224237e-01],\n",
              "       [ 1.00000000e+00,  3.76884422e-01,  1.42041868e-01],\n",
              "       [ 1.00000000e+00,  4.07035176e-01,  1.65677634e-01],\n",
              "       [ 1.00000000e+00,  4.37185930e-01,  1.91131537e-01],\n",
              "       [ 1.00000000e+00,  4.67336683e-01,  2.18403576e-01],\n",
              "       [ 1.00000000e+00,  4.97487437e-01,  2.47493750e-01],\n",
              "       [ 1.00000000e+00,  5.27638191e-01,  2.78402061e-01],\n",
              "       [ 1.00000000e+00,  5.57788945e-01,  3.11128507e-01],\n",
              "       [ 1.00000000e+00,  5.87939698e-01,  3.45673089e-01],\n",
              "       [ 1.00000000e+00,  6.18090452e-01,  3.82035807e-01],\n",
              "       [ 1.00000000e+00,  6.48241206e-01,  4.20216661e-01],\n",
              "       [ 1.00000000e+00,  6.78391960e-01,  4.60215651e-01],\n",
              "       [ 1.00000000e+00,  7.08542714e-01,  5.02032777e-01],\n",
              "       [ 1.00000000e+00,  7.38693467e-01,  5.45668039e-01],\n",
              "       [ 1.00000000e+00,  7.68844221e-01,  5.91121436e-01],\n",
              "       [ 1.00000000e+00,  7.98994975e-01,  6.38392970e-01],\n",
              "       [ 1.00000000e+00,  8.29145729e-01,  6.87482639e-01],\n",
              "       [ 1.00000000e+00,  8.59296482e-01,  7.38390445e-01],\n",
              "       [ 1.00000000e+00,  8.89447236e-01,  7.91116386e-01],\n",
              "       [ 1.00000000e+00,  9.19597990e-01,  8.45660463e-01],\n",
              "       [ 1.00000000e+00,  9.49748744e-01,  9.02022676e-01],\n",
              "       [ 1.00000000e+00,  9.79899497e-01,  9.60203025e-01],\n",
              "       [ 1.00000000e+00,  1.01005025e+00,  1.02020151e+00],\n",
              "       [ 1.00000000e+00,  1.04020101e+00,  1.08201813e+00],\n",
              "       [ 1.00000000e+00,  1.07035176e+00,  1.14565289e+00],\n",
              "       [ 1.00000000e+00,  1.10050251e+00,  1.21110578e+00],\n",
              "       [ 1.00000000e+00,  1.13065327e+00,  1.27837681e+00],\n",
              "       [ 1.00000000e+00,  1.16080402e+00,  1.34746597e+00],\n",
              "       [ 1.00000000e+00,  1.19095477e+00,  1.41837327e+00],\n",
              "       [ 1.00000000e+00,  1.22110553e+00,  1.49109871e+00],\n",
              "       [ 1.00000000e+00,  1.25125628e+00,  1.56564228e+00],\n",
              "       [ 1.00000000e+00,  1.28140704e+00,  1.64200399e+00],\n",
              "       [ 1.00000000e+00,  1.31155779e+00,  1.72018383e+00],\n",
              "       [ 1.00000000e+00,  1.34170854e+00,  1.80018181e+00],\n",
              "       [ 1.00000000e+00,  1.37185930e+00,  1.88199793e+00],\n",
              "       [ 1.00000000e+00,  1.40201005e+00,  1.96563218e+00],\n",
              "       [ 1.00000000e+00,  1.43216080e+00,  2.05108457e+00],\n",
              "       [ 1.00000000e+00,  1.46231156e+00,  2.13835509e+00],\n",
              "       [ 1.00000000e+00,  1.49246231e+00,  2.22744375e+00],\n",
              "       [ 1.00000000e+00,  1.52261307e+00,  2.31835055e+00],\n",
              "       [ 1.00000000e+00,  1.55276382e+00,  2.41107548e+00],\n",
              "       [ 1.00000000e+00,  1.58291457e+00,  2.50561854e+00],\n",
              "       [ 1.00000000e+00,  1.61306533e+00,  2.60197975e+00],\n",
              "       [ 1.00000000e+00,  1.64321608e+00,  2.70015909e+00],\n",
              "       [ 1.00000000e+00,  1.67336683e+00,  2.80015656e+00],\n",
              "       [ 1.00000000e+00,  1.70351759e+00,  2.90197217e+00],\n",
              "       [ 1.00000000e+00,  1.73366834e+00,  3.00560592e+00],\n",
              "       [ 1.00000000e+00,  1.76381910e+00,  3.11105780e+00],\n",
              "       [ 1.00000000e+00,  1.79396985e+00,  3.21832782e+00],\n",
              "       [ 1.00000000e+00,  1.82412060e+00,  3.32741597e+00],\n",
              "       [ 1.00000000e+00,  1.85427136e+00,  3.43832226e+00],\n",
              "       [ 1.00000000e+00,  1.88442211e+00,  3.55104669e+00],\n",
              "       [ 1.00000000e+00,  1.91457286e+00,  3.66558925e+00],\n",
              "       [ 1.00000000e+00,  1.94472362e+00,  3.78194995e+00],\n",
              "       [ 1.00000000e+00,  1.97487437e+00,  3.90012878e+00],\n",
              "       [ 1.00000000e+00,  2.00502513e+00,  4.02012575e+00],\n",
              "       [ 1.00000000e+00,  2.03517588e+00,  4.14194086e+00],\n",
              "       [ 1.00000000e+00,  2.06532663e+00,  4.26557410e+00],\n",
              "       [ 1.00000000e+00,  2.09547739e+00,  4.39102548e+00],\n",
              "       [ 1.00000000e+00,  2.12562814e+00,  4.51829499e+00],\n",
              "       [ 1.00000000e+00,  2.15577889e+00,  4.64738264e+00],\n",
              "       [ 1.00000000e+00,  2.18592965e+00,  4.77828843e+00],\n",
              "       [ 1.00000000e+00,  2.21608040e+00,  4.91101235e+00],\n",
              "       [ 1.00000000e+00,  2.24623116e+00,  5.04555441e+00],\n",
              "       [ 1.00000000e+00,  2.27638191e+00,  5.18191460e+00],\n",
              "       [ 1.00000000e+00,  2.30653266e+00,  5.32009293e+00],\n",
              "       [ 1.00000000e+00,  2.33668342e+00,  5.46008939e+00],\n",
              "       [ 1.00000000e+00,  2.36683417e+00,  5.60190399e+00],\n",
              "       [ 1.00000000e+00,  2.39698492e+00,  5.74553673e+00],\n",
              "       [ 1.00000000e+00,  2.42713568e+00,  5.89098760e+00],\n",
              "       [ 1.00000000e+00,  2.45728643e+00,  6.03825661e+00],\n",
              "       [ 1.00000000e+00,  2.48743719e+00,  6.18734375e+00],\n",
              "       [ 1.00000000e+00,  2.51758794e+00,  6.33824903e+00],\n",
              "       [ 1.00000000e+00,  2.54773869e+00,  6.49097245e+00],\n",
              "       [ 1.00000000e+00,  2.57788945e+00,  6.64551400e+00],\n",
              "       [ 1.00000000e+00,  2.60804020e+00,  6.80187369e+00],\n",
              "       [ 1.00000000e+00,  2.63819095e+00,  6.96005151e+00],\n",
              "       [ 1.00000000e+00,  2.66834171e+00,  7.12004747e+00],\n",
              "       [ 1.00000000e+00,  2.69849246e+00,  7.28186157e+00],\n",
              "       [ 1.00000000e+00,  2.72864322e+00,  7.44549380e+00],\n",
              "       [ 1.00000000e+00,  2.75879397e+00,  7.61094417e+00],\n",
              "       [ 1.00000000e+00,  2.78894472e+00,  7.77821267e+00],\n",
              "       [ 1.00000000e+00,  2.81909548e+00,  7.94729931e+00],\n",
              "       [ 1.00000000e+00,  2.84924623e+00,  8.11820409e+00],\n",
              "       [ 1.00000000e+00,  2.87939698e+00,  8.29092700e+00],\n",
              "       [ 1.00000000e+00,  2.90954774e+00,  8.46546804e+00],\n",
              "       [ 1.00000000e+00,  2.93969849e+00,  8.64182723e+00],\n",
              "       [ 1.00000000e+00,  2.96984925e+00,  8.82000455e+00],\n",
              "       [ 1.00000000e+00,  3.00000000e+00,  9.00000000e+00]])"
            ]
          },
          "metadata": {},
          "execution_count": 16
        }
      ]
    },
    {
      "cell_type": "code",
      "source": [
        "y_new = model.predict(x_new_poly)\n",
        "plt.plot(x_new, y_new, 'r', linewidth = 2, label = 'Predictions')\n",
        "plt.scatter(xtrain, ytrain, color = 'b', label = 'Training Data')\n",
        "plt.scatter(xtest,ytest, color = 'g', label = 'Testing Points')\n",
        "\n",
        "plt.xlabel('X Dataset')\n",
        "plt.ylabel('Y Dataset')\n",
        "plt.legend()\n",
        "plt.show()"
      ],
      "metadata": {
        "colab": {
          "base_uri": "https://localhost:8080/",
          "height": 449
        },
        "id": "3NF8omX9oGoB",
        "outputId": "2f42efe0-f3e3-42a1-94b4-2eef4ed6d069"
      },
      "execution_count": 17,
      "outputs": [
        {
          "output_type": "display_data",
          "data": {
            "text/plain": [
              "<Figure size 640x480 with 1 Axes>"
            ],
            "image/png": "[encoded data removed]"
          },
          "metadata": {}
        }
      ]
    },
    {
      "cell_type": "markdown",
      "source": [
        "## Pipeline concepts"
      ],
      "metadata": {
        "id": "rFx0UtG9MxfQ"
      }
    },
    {
      "cell_type": "code",
      "source": [
        "from sklearn.pipeline import Pipeline"
      ],
      "metadata": {
        "id": "kaDH4PcqoeDP"
      },
      "execution_count": 18,
      "outputs": []
    },
    {
      "cell_type": "code",
      "source": [
        "def poly_regression(degree):\n",
        "  x_new = np.linspace(-3,3,200).reshape(200,1)\n",
        "  x_new_poly = poly.transform(x_new)\n",
        "  poly_features = PolynomialFeatures(degree = degree, include_bias = True)\n",
        "  lin_reg = LinearRegression()\n",
        "  poly_regression = Pipeline([\n",
        "      ('poly_features',poly_features),\n",
        "      ('lin_reg',lin_reg)\n",
        "  ])\n",
        "  poly_regression.fit(xtrain, ytrain)\n",
        "  y_pred_new = poly_regression.predict(x_new)\n",
        "\n",
        "  ## Plotting the Prediction line\n",
        "  plt.plot(x_new, y_pred_new, 'r', label = 'Degree'+str(degree), linewidth= 2)\n",
        "  plt.scatter(xtrain, ytrain, color='b', linewidth=1)\n",
        "  plt.scatter(xtest, ytest, color='g', linewidth= 1)\n",
        "  plt.legend(loc='upper left')\n",
        "  plt.xlabel('x')\n",
        "  plt.ylabel('y')\n",
        "  plt.axis([-5, 5, -2, 12])\n",
        "  plt.show()"
      ],
      "metadata": {
        "id": "uvxXbqmMNdo4"
      },
      "execution_count": 43,
      "outputs": []
    },
    {
      "cell_type": "code",
      "source": [
        "poly_regression(5)"
      ],
      "metadata": {
        "colab": {
          "base_uri": "https://localhost:8080/",
          "height": 455
        },
        "id": "HVf1Q272PqZ1",
        "outputId": "37435042-8652-4b91-9e1d-ac8a1d534448"
      },
      "execution_count": 46,
      "outputs": [
        {
          "output_type": "display_data",
          "data": {
            "text/plain": [
              "<Figure size 640x480 with 1 Axes>"
            ],
            "image/png": "[encoded data removed]"
          },
          "metadata": {}
        }
      ]
    }
  ]
}